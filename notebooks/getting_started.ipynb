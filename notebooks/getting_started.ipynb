{
 "cells": [
  {
   "source": [
    "<img src=\"images/strathsdr_banner.png\" align=\"left\">"
   ],
   "cell_type": "markdown",
   "metadata": {}
  },
  {
   "cell_type": "markdown",
   "metadata": {},
   "source": [
    "# Getting Started with RFSoC Studio\n",
    "\n",
    "----\n",
    "\n",
    "You have just installed a significant amount of educational content and reference design projects for your RFSoC2x2 or ZCU111 development board. Before you get started, lets cover some introductory steps and helpful tips when using this material.\n",
    "\n",
    "## Transmission Safety\n",
    "Firstly, let's be very clear about transmission safety with your RFSoC development board.\n",
    "\n",
    "<div class=\"alert alert-box alert-danger\">\n",
    "<b>Caution:</b>\n",
    "    In many of these reference designs and notebooks, we generate tones using the RFSoC development board. You should understand that the RFSoC platform can transmit RF signals wirelessly. Remember that unlicensed wireless transmission of RF signals may be illegal in your geographical location. Radio signals may also interfere with nearby devices, such as pacemakers and emergency radio equipment. Note that it is also illegal to intercept and decode particular RF signals. If you are unsure, please seek professional support.\n",
    "</div>\n",
    "\n",
    "Unless otherwise instructed, do not connect an antenna to any Digital-to-Analogue Converter (DAC) ports on your RFSoC platform.\n",
    "\n",
    "## Jupyter Lab\n",
    "If you are currently using Jupyter notebooks to view this notebook, then you will need to move to Jupyter Labs to use the rest of the material. This can be easily done by entering the following into your web browser.\n",
    "\n",
    "`http://board_ip_address:9090/lab`\n",
    "\n",
    "Where the board_ip_address is your actual board IP address, such as 192.168.1.120. An example is shown below:\n",
    "\n",
    "<figure>\n",
    "    <img src='./images/jupyter_labs.jpg' width=\"50%\">\n",
    "</figure>\n",
    "\n",
    "## Clean your Workspace\n",
    "When using this material, you will open several notebooks as you navigate between projects and demonstration designs. To conserve processing resources on your RFSoC device, you should clean the Jupyter workspace every so often. When you have finished with a notebook (including this one), simply follow the steps below to shutdown active kernels.\n",
    "\n",
    "* Open the \"Running Terminals and Kernels\" tab on the left side of your screen. An example is given below:\n",
    "\n",
    "<figure>\n",
    "    <img src='./images/open_active_notebooks_tab.jpg' width=\"50%\">\n",
    "</figure>\n",
    "\n",
    "* In the tab that has appeared, simply click **Shutdown**, to shutdown the active kernel for that notebook. An example is shown below:\n",
    "\n",
    "<figure>\n",
    "    <img src='./images/shutdown_notebooks.jpg' width=\"50%\">\n",
    "</figure>\n",
    "\n",
    "* Notice that there are also shutdown options for active terminals. These can be shutdown too once their purpose has been fulfilled.\n",
    "\n",
    "* Now close the tab in Jupyter Lab, where the notebook was opened.\n",
    "\n",
    "Following these steps will ensure that notebooks are shutdown correctly and don't unnecessarily consume processing resources."
   ]
  },
  {
   "cell_type": "markdown",
   "metadata": {},
   "source": [
    "## The RFSoC Studio Hub\n",
    "Lastly, we have created a convenient hub for you to navigate between many of the demonstrations and notebooks in this set of materials. You can access this by clicking the link below:\n",
    "\n",
    "[The RFSoC Studio Hub](rfsoc_studio_hub.ipynb)\n",
    "\n",
    "Don't forget to clean your Jupyter workspace..."
   ]
  }
 ],
 "metadata": {
  "kernelspec": {
   "display_name": "Python 3",
   "language": "python",
   "name": "python3"
  },
  "language_info": {
   "codemirror_mode": {
    "name": "ipython",
    "version": 3
   },
   "file_extension": ".py",
   "mimetype": "text/x-python",
   "name": "python",
   "nbconvert_exporter": "python",
   "pygments_lexer": "ipython3",
   "version": "3.6.5"
  }
 },
 "nbformat": 4,
 "nbformat_minor": 4
}